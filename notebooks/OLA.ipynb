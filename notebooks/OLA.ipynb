{
 "cells": [
  {
   "cell_type": "markdown",
   "metadata": {},
   "source": [
    "# OLA 1: Data Wrangling"
   ]
  },
  {
   "cell_type": "markdown",
   "metadata": {},
   "source": [
    "Link to the dataset used in this notebook: https://www.kaggle.com/datasets/imnikhilanand/heart-attack-prediction\n",
    "\n",
    "Please install and add to a folder called data from root directoy. Exclude in .gitignore please"
   ]
  },
  {
   "cell_type": "code",
   "execution_count": 6,
   "metadata": {},
   "outputs": [
    {
     "name": "stdout",
     "output_type": "stream",
     "text": [
      "Requirement already satisfied: pandas in /Users/kengokato/ML-OLA-1/ML-OLA-1-venv/lib/python3.13/site-packages (2.2.3)\n",
      "Requirement already satisfied: numpy in /Users/kengokato/ML-OLA-1/ML-OLA-1-venv/lib/python3.13/site-packages (2.2.3)\n",
      "Requirement already satisfied: matplotlib in /Users/kengokato/ML-OLA-1/ML-OLA-1-venv/lib/python3.13/site-packages (3.10.0)\n",
      "Requirement already satisfied: seaborn in /Users/kengokato/ML-OLA-1/ML-OLA-1-venv/lib/python3.13/site-packages (0.13.2)\n",
      "Requirement already satisfied: python-dateutil>=2.8.2 in /Users/kengokato/ML-OLA-1/ML-OLA-1-venv/lib/python3.13/site-packages (from pandas) (2.9.0.post0)\n",
      "Requirement already satisfied: pytz>=2020.1 in /Users/kengokato/ML-OLA-1/ML-OLA-1-venv/lib/python3.13/site-packages (from pandas) (2025.1)\n",
      "Requirement already satisfied: tzdata>=2022.7 in /Users/kengokato/ML-OLA-1/ML-OLA-1-venv/lib/python3.13/site-packages (from pandas) (2025.1)\n",
      "Requirement already satisfied: contourpy>=1.0.1 in /Users/kengokato/ML-OLA-1/ML-OLA-1-venv/lib/python3.13/site-packages (from matplotlib) (1.3.1)\n",
      "Requirement already satisfied: cycler>=0.10 in /Users/kengokato/ML-OLA-1/ML-OLA-1-venv/lib/python3.13/site-packages (from matplotlib) (0.12.1)\n",
      "Requirement already satisfied: fonttools>=4.22.0 in /Users/kengokato/ML-OLA-1/ML-OLA-1-venv/lib/python3.13/site-packages (from matplotlib) (4.56.0)\n",
      "Requirement already satisfied: kiwisolver>=1.3.1 in /Users/kengokato/ML-OLA-1/ML-OLA-1-venv/lib/python3.13/site-packages (from matplotlib) (1.4.8)\n",
      "Requirement already satisfied: packaging>=20.0 in /Users/kengokato/ML-OLA-1/ML-OLA-1-venv/lib/python3.13/site-packages (from matplotlib) (24.2)\n",
      "Requirement already satisfied: pillow>=8 in /Users/kengokato/ML-OLA-1/ML-OLA-1-venv/lib/python3.13/site-packages (from matplotlib) (11.1.0)\n",
      "Requirement already satisfied: pyparsing>=2.3.1 in /Users/kengokato/ML-OLA-1/ML-OLA-1-venv/lib/python3.13/site-packages (from matplotlib) (3.2.1)\n",
      "Requirement already satisfied: six>=1.5 in /Users/kengokato/ML-OLA-1/ML-OLA-1-venv/lib/python3.13/site-packages (from python-dateutil>=2.8.2->pandas) (1.17.0)\n",
      "\n",
      "\u001b[1m[\u001b[0m\u001b[34;49mnotice\u001b[0m\u001b[1;39;49m]\u001b[0m\u001b[39;49m A new release of pip is available: \u001b[0m\u001b[31;49m25.0\u001b[0m\u001b[39;49m -> \u001b[0m\u001b[32;49m25.0.1\u001b[0m\n",
      "\u001b[1m[\u001b[0m\u001b[34;49mnotice\u001b[0m\u001b[1;39;49m]\u001b[0m\u001b[39;49m To update, run: \u001b[0m\u001b[32;49mpip install --upgrade pip\u001b[0m\n"
     ]
    }
   ],
   "source": [
    "!pip3 install pandas numpy matplotlib seaborn"
   ]
  },
  {
   "cell_type": "code",
   "execution_count": 7,
   "metadata": {},
   "outputs": [],
   "source": [
    "# Imports\n",
    "import pandas as pd\n",
    "import numpy as np\n",
    "import matplotlib.pyplot as plt\n",
    "import seaborn as sns\n"
   ]
  },
  {
   "cell_type": "markdown",
   "metadata": {},
   "source": [
    "## Task 1: Data Exploration & Cleaning"
   ]
  },
  {
   "cell_type": "code",
   "execution_count": 8,
   "metadata": {},
   "outputs": [],
   "source": [
    "df = pd.read_csv('../data/data.csv')"
   ]
  },
  {
   "cell_type": "code",
   "execution_count": 9,
   "metadata": {},
   "outputs": [
    {
     "name": "stdout",
     "output_type": "stream",
     "text": [
      "              age         sex          cp     oldpeak  num       \n",
      "count  294.000000  294.000000  294.000000  294.000000  294.000000\n",
      "mean    47.826531    0.724490    2.982993    0.586054    0.360544\n",
      "std      7.811812    0.447533    0.965117    0.908648    0.480977\n",
      "min     28.000000    0.000000    1.000000    0.000000    0.000000\n",
      "25%     42.000000    0.000000    2.000000    0.000000    0.000000\n",
      "50%     49.000000    1.000000    3.000000    0.000000    0.000000\n",
      "75%     54.000000    1.000000    4.000000    1.000000    1.000000\n",
      "max     66.000000    1.000000    4.000000    5.000000    1.000000\n"
     ]
    }
   ],
   "source": [
    "print(df.describe())\n"
   ]
  },
  {
   "cell_type": "markdown",
   "metadata": {},
   "source": [
    "The .describe() method provides summary stats as shown for the columns.\n",
    "\n",
    "For example here, the 'age' column shows a mean age of approximately 47.8 years, with ia mnimnd um of 28 aa maximum of 66. This indicates that the dataset is relatively balanced in terms of age and gives us a good idea that we are wroking a decent set of data really"
   ]
  },
  {
   "cell_type": "code",
   "execution_count": 10,
   "metadata": {},
   "outputs": [
    {
     "name": "stdout",
     "output_type": "stream",
     "text": [
      "<class 'pandas.core.frame.DataFrame'>\n",
      "RangeIndex: 294 entries, 0 to 293\n",
      "Data columns (total 14 columns):\n",
      " #   Column      Non-Null Count  Dtype  \n",
      "---  ------      --------------  -----  \n",
      " 0   age         294 non-null    int64  \n",
      " 1   sex         294 non-null    int64  \n",
      " 2   cp          294 non-null    int64  \n",
      " 3   trestbps    294 non-null    object \n",
      " 4   chol        294 non-null    object \n",
      " 5   fbs         294 non-null    object \n",
      " 6   restecg     294 non-null    object \n",
      " 7   thalach     294 non-null    object \n",
      " 8   exang       294 non-null    object \n",
      " 9   oldpeak     294 non-null    float64\n",
      " 10  slope       294 non-null    object \n",
      " 11  ca          294 non-null    object \n",
      " 12  thal        294 non-null    object \n",
      " 13  num         294 non-null    int64  \n",
      "dtypes: float64(1), int64(4), object(9)\n",
      "memory usage: 32.3+ KB\n",
      "None\n"
     ]
    }
   ],
   "source": [
    "print(df.info())"
   ]
  },
  {
   "cell_type": "markdown",
   "metadata": {},
   "source": [
    "Then, the .info() method reveals that the dataset contains 294 entries with a total count of 14 columns.\n",
    "\n",
    "Columns like 'age', 'sex', 'cp', and 'num' are of integer type, while others like 'trestbps', 'chol', and 'thal' are objects due to the presence of '?' (don't worry I'm going to clean this up in a little bit in my next section where I clean the data)"
   ]
  },
  {
   "cell_type": "code",
   "execution_count": 11,
   "metadata": {},
   "outputs": [
    {
     "name": "stdout",
     "output_type": "stream",
     "text": [
      "   age  sex  cp trestbps chol fbs restecg thalach exang  oldpeak slope ca  \\\n",
      "0   28    1   2      130  132   0       2     185     0      0.0     ?  ?   \n",
      "1   29    1   2      120  243   0       0     160     0      0.0     ?  ?   \n",
      "2   29    1   2      140    ?   0       0     170     0      0.0     ?  ?   \n",
      "3   30    0   1      170  237   0       1     170     0      0.0     ?  ?   \n",
      "4   31    0   2      100  219   0       1     150     0      0.0     ?  ?   \n",
      "\n",
      "  thal  num         \n",
      "0    ?           0  \n",
      "1    ?           0  \n",
      "2    ?           0  \n",
      "3    6           0  \n",
      "4    ?           0  \n"
     ]
    }
   ],
   "source": [
    "print(df.head())"
   ]
  },
  {
   "cell_type": "markdown",
   "metadata": {},
   "source": [
    "Finally, the .head() method shows the first five rows of the dataset.\n",
    "\n",
    "Again, we can see that some columns contain '?' as placeholders for missing values, which need to be replaced with NaN for proper analysis so let's get to it."
   ]
  },
  {
   "cell_type": "markdown",
   "metadata": {},
   "source": [
    "#### Overall observations\n",
    "We can see from the info() and head() function that there use not-null contraints across each column but I can see that this does NOT mean we don't have missing values. They seem to actaully use '?' instead of using null which in all honesty is a bit strange to me but, but we will deal with it now as mentioned a couple times already."
   ]
  },
  {
   "cell_type": "markdown",
   "metadata": {},
   "source": [
    "### Data Cleaning"
   ]
  },
  {
   "cell_type": "markdown",
   "metadata": {},
   "source": [
    "Always good practice to first see all the missing and null values and their columns:"
   ]
  },
  {
   "cell_type": "code",
   "execution_count": 18,
   "metadata": {},
   "outputs": [
    {
     "name": "stdout",
     "output_type": "stream",
     "text": [
      "Columns with missing values:\n",
      " trestbps      1\n",
      "chol         23\n",
      "fbs           8\n",
      "restecg       1\n",
      "thalach       1\n",
      "exang         1\n",
      "slope       190\n",
      "ca          291\n",
      "thal        266\n",
      "dtype: int64\n",
      "And their respective data types: \n",
      " age             int64\n",
      "sex             int64\n",
      "cp              int64\n",
      "trestbps       object\n",
      "chol           object\n",
      "fbs            object\n",
      "restecg        object\n",
      "thalach        object\n",
      "exang          object\n",
      "oldpeak       float64\n",
      "slope          object\n",
      "ca             object\n",
      "thal           object\n",
      "num             int64\n",
      "dtype: object\n"
     ]
    }
   ],
   "source": [
    "missing_values = df.isnull().sum()\n",
    "print(\"Columns with missing values:\\n\", missing_values[missing_values > 0])\n",
    "\n",
    "print(\"And their respective data types: \\n\", df.dtypes)"
   ]
  },
  {
   "cell_type": "code",
   "execution_count": 20,
   "metadata": {},
   "outputs": [
    {
     "data": {
      "text/html": [
       "<div>\n",
       "<style scoped>\n",
       "    .dataframe tbody tr th:only-of-type {\n",
       "        vertical-align: middle;\n",
       "    }\n",
       "\n",
       "    .dataframe tbody tr th {\n",
       "        vertical-align: top;\n",
       "    }\n",
       "\n",
       "    .dataframe thead th {\n",
       "        text-align: right;\n",
       "    }\n",
       "</style>\n",
       "<table border=\"1\" class=\"dataframe\">\n",
       "  <thead>\n",
       "    <tr style=\"text-align: right;\">\n",
       "      <th></th>\n",
       "      <th>age</th>\n",
       "      <th>sex</th>\n",
       "      <th>cp</th>\n",
       "      <th>trestbps</th>\n",
       "      <th>chol</th>\n",
       "      <th>fbs</th>\n",
       "      <th>restecg</th>\n",
       "      <th>thalach</th>\n",
       "      <th>exang</th>\n",
       "      <th>oldpeak</th>\n",
       "      <th>slope</th>\n",
       "      <th>ca</th>\n",
       "      <th>thal</th>\n",
       "      <th>num</th>\n",
       "    </tr>\n",
       "  </thead>\n",
       "  <tbody>\n",
       "    <tr>\n",
       "      <th>0</th>\n",
       "      <td>28</td>\n",
       "      <td>1</td>\n",
       "      <td>2</td>\n",
       "      <td>130.0</td>\n",
       "      <td>132.0</td>\n",
       "      <td>0.0</td>\n",
       "      <td>2.0</td>\n",
       "      <td>185.0</td>\n",
       "      <td>0.0</td>\n",
       "      <td>0.0</td>\n",
       "      <td>NaN</td>\n",
       "      <td>NaN</td>\n",
       "      <td>NaN</td>\n",
       "      <td>0</td>\n",
       "    </tr>\n",
       "    <tr>\n",
       "      <th>1</th>\n",
       "      <td>29</td>\n",
       "      <td>1</td>\n",
       "      <td>2</td>\n",
       "      <td>120.0</td>\n",
       "      <td>243.0</td>\n",
       "      <td>0.0</td>\n",
       "      <td>0.0</td>\n",
       "      <td>160.0</td>\n",
       "      <td>0.0</td>\n",
       "      <td>0.0</td>\n",
       "      <td>NaN</td>\n",
       "      <td>NaN</td>\n",
       "      <td>NaN</td>\n",
       "      <td>0</td>\n",
       "    </tr>\n",
       "    <tr>\n",
       "      <th>2</th>\n",
       "      <td>29</td>\n",
       "      <td>1</td>\n",
       "      <td>2</td>\n",
       "      <td>140.0</td>\n",
       "      <td>NaN</td>\n",
       "      <td>0.0</td>\n",
       "      <td>0.0</td>\n",
       "      <td>170.0</td>\n",
       "      <td>0.0</td>\n",
       "      <td>0.0</td>\n",
       "      <td>NaN</td>\n",
       "      <td>NaN</td>\n",
       "      <td>NaN</td>\n",
       "      <td>0</td>\n",
       "    </tr>\n",
       "    <tr>\n",
       "      <th>3</th>\n",
       "      <td>30</td>\n",
       "      <td>0</td>\n",
       "      <td>1</td>\n",
       "      <td>170.0</td>\n",
       "      <td>237.0</td>\n",
       "      <td>0.0</td>\n",
       "      <td>1.0</td>\n",
       "      <td>170.0</td>\n",
       "      <td>0.0</td>\n",
       "      <td>0.0</td>\n",
       "      <td>NaN</td>\n",
       "      <td>NaN</td>\n",
       "      <td>6.0</td>\n",
       "      <td>0</td>\n",
       "    </tr>\n",
       "    <tr>\n",
       "      <th>4</th>\n",
       "      <td>31</td>\n",
       "      <td>0</td>\n",
       "      <td>2</td>\n",
       "      <td>100.0</td>\n",
       "      <td>219.0</td>\n",
       "      <td>0.0</td>\n",
       "      <td>1.0</td>\n",
       "      <td>150.0</td>\n",
       "      <td>0.0</td>\n",
       "      <td>0.0</td>\n",
       "      <td>NaN</td>\n",
       "      <td>NaN</td>\n",
       "      <td>NaN</td>\n",
       "      <td>0</td>\n",
       "    </tr>\n",
       "  </tbody>\n",
       "</table>\n",
       "</div>"
      ],
      "text/plain": [
       "   age  sex  cp  trestbps   chol  fbs  restecg  thalach  exang  oldpeak  \\\n",
       "0   28    1   2     130.0  132.0  0.0      2.0    185.0    0.0      0.0   \n",
       "1   29    1   2     120.0  243.0  0.0      0.0    160.0    0.0      0.0   \n",
       "2   29    1   2     140.0    NaN  0.0      0.0    170.0    0.0      0.0   \n",
       "3   30    0   1     170.0  237.0  0.0      1.0    170.0    0.0      0.0   \n",
       "4   31    0   2     100.0  219.0  0.0      1.0    150.0    0.0      0.0   \n",
       "\n",
       "   slope  ca  thal  num         \n",
       "0    NaN NaN   NaN           0  \n",
       "1    NaN NaN   NaN           0  \n",
       "2    NaN NaN   NaN           0  \n",
       "3    NaN NaN   6.0           0  \n",
       "4    NaN NaN   NaN           0  "
      ]
     },
     "execution_count": 20,
     "metadata": {},
     "output_type": "execute_result"
    }
   ],
   "source": [
    "df = df.replace(\"?\", np.nan)\n",
    "df.head()"
   ]
  },
  {
   "cell_type": "markdown",
   "metadata": {},
   "source": [
    "So what I did here is to convert every single '?' values with NaN regardless of their shown type being object. \n",
    "\n",
    "I feel safe to do that because I know those values are really measuring numerical values. For example even age and sex are represented through binary values and things on slope, ca, and thal are numerical values."
   ]
  },
  {
   "cell_type": "markdown",
   "metadata": {},
   "source": [
    "Voila, much better and all we did was replace every '?' value throughout our dataset with NaN with pandas .replace() method. "
   ]
  },
  {
   "cell_type": "code",
   "execution_count": 23,
   "metadata": {},
   "outputs": [
    {
     "name": "stdout",
     "output_type": "stream",
     "text": [
      "   age  sex  cp  trestbps   chol  fbs  restecg  thalach  exang  oldpeak  \\\n",
      "0   28    1   2     130.0  132.0  0.0      2.0    185.0    0.0      0.0   \n",
      "1   29    1   2     120.0  243.0  0.0      0.0    160.0    0.0      0.0   \n",
      "2   29    1   2     140.0    NaN  0.0      0.0    170.0    0.0      0.0   \n",
      "3   30    0   1     170.0  237.0  0.0      1.0    170.0    0.0      0.0   \n",
      "4   31    0   2     100.0  219.0  0.0      1.0    150.0    0.0      0.0   \n",
      "\n",
      "   num         \n",
      "0           0  \n",
      "1           0  \n",
      "2           0  \n",
      "3           0  \n",
      "4           0  \n",
      "<class 'pandas.core.frame.DataFrame'>\n",
      "RangeIndex: 294 entries, 0 to 293\n",
      "Data columns (total 11 columns):\n",
      " #   Column      Non-Null Count  Dtype  \n",
      "---  ------      --------------  -----  \n",
      " 0   age         294 non-null    int64  \n",
      " 1   sex         294 non-null    int64  \n",
      " 2   cp          294 non-null    int64  \n",
      " 3   trestbps    293 non-null    float64\n",
      " 4   chol        271 non-null    float64\n",
      " 5   fbs         286 non-null    float64\n",
      " 6   restecg     293 non-null    float64\n",
      " 7   thalach     293 non-null    float64\n",
      " 8   exang       293 non-null    float64\n",
      " 9   oldpeak     294 non-null    float64\n",
      " 10  num         294 non-null    int64  \n",
      "dtypes: float64(7), int64(4)\n",
      "memory usage: 25.4 KB\n",
      "None\n"
     ]
    }
   ],
   "source": [
    "threshold = len(df) * 0.5 # I do 0.5 for 50% \n",
    "\n",
    "df = df.dropna(thresh=threshold, axis=1)\n",
    "\n",
    "print(df.head())\n",
    "print(df.info())"
   ]
  },
  {
   "cell_type": "markdown",
   "metadata": {},
   "source": [
    "Just quickly dropped columns that are missing more than 50% of their values."
   ]
  },
  {
   "cell_type": "markdown",
   "metadata": {},
   "source": [
    "#### Outliers\n",
    "\n",
    "Alright, last step to clean the data, we need to identify and remove outliers. I plan to identify the outliers by bascially taking the 25th percentil and the 75th percentile and finding values that are more than 1.5 times the IQR.\n",
    "\n",
    "So when we basically look at a normal distribution, 25th percentile is the point where 25% of the data is below it and 75th percentile is the point where 75% of the data is below it.\n",
    "\n",
    "Now you are probably thinking, why can we just apply or assume that our data is normally distributed? Super simple, in statistics when we take a sample size of 30 or more, the distribution of the mean will be normal regardless of the shape of the population distribution.\n",
    "\n",
    "So we can basically apply this to our data and identify the outliers:\n",
    "\n",
    "\n",
    "\n",
    "\n",
    "\n",
    "\n"
   ]
  },
  {
   "cell_type": "code",
   "execution_count": 24,
   "metadata": {},
   "outputs": [
    {
     "name": "stdout",
     "output_type": "stream",
     "text": [
      "   age  sex  cp  trestbps   chol  fbs  restecg  thalach  exang  oldpeak  \\\n",
      "1   29    1   2     120.0  243.0  0.0      0.0    160.0    0.0      0.0   \n",
      "2   29    1   2     140.0    NaN  0.0      0.0    170.0    0.0      0.0   \n",
      "5   32    0   2     105.0  198.0  0.0      0.0    165.0    0.0      0.0   \n",
      "6   32    1   2     110.0  225.0  0.0      0.0    184.0    0.0      0.0   \n",
      "7   32    1   2     125.0  254.0  0.0      0.0    155.0    0.0      0.0   \n",
      "\n",
      "   num         \n",
      "1           0  \n",
      "2           0  \n",
      "5           0  \n",
      "6           0  \n",
      "7           0  \n",
      "<class 'pandas.core.frame.DataFrame'>\n",
      "Index: 202 entries, 1 to 289\n",
      "Data columns (total 11 columns):\n",
      " #   Column      Non-Null Count  Dtype  \n",
      "---  ------      --------------  -----  \n",
      " 0   age         202 non-null    int64  \n",
      " 1   sex         202 non-null    int64  \n",
      " 2   cp          202 non-null    int64  \n",
      " 3   trestbps    202 non-null    float64\n",
      " 4   chol        182 non-null    float64\n",
      " 5   fbs         198 non-null    float64\n",
      " 6   restecg     201 non-null    float64\n",
      " 7   thalach     202 non-null    float64\n",
      " 8   exang       202 non-null    float64\n",
      " 9   oldpeak     202 non-null    float64\n",
      " 10  num         202 non-null    int64  \n",
      "dtypes: float64(7), int64(4)\n",
      "memory usage: 18.9 KB\n",
      "None\n"
     ]
    }
   ],
   "source": [
    "Q1 = df.quantile(0.25)\n",
    "Q3 = df.quantile(0.75)\n",
    "IQR = Q3 - Q1\n",
    "\n",
    "outliers = (df < (Q1 - 1.5 * IQR)) | (df > (Q3 + 1.5 * IQR))\n",
    "\n",
    "df_cleaned = df[~outliers.any(axis=1)]\n",
    "\n",
    "print(df_cleaned.head())\n",
    "print(df_cleaned.info())"
   ]
  },
  {
   "cell_type": "markdown",
   "metadata": {},
   "source": [
    "### Data Visualization\n",
    "\n",
    "After our cleanup, we want to visualise the data. I'm picking a mix of matplotlib and seaborne as the tools for this job today.\n"
   ]
  },
  {
   "cell_type": "code",
   "execution_count": null,
   "metadata": {},
   "outputs": [],
   "source": [
    "sns.set(style=\"whitegrid\")"
   ]
  },
  {
   "cell_type": "markdown",
   "metadata": {},
   "source": [
    "Set seaborne style first. Then we can start plotting:"
   ]
  },
  {
   "cell_type": "code",
   "execution_count": 25,
   "metadata": {},
   "outputs": [
    {
     "data": {
      "image/png": "[encoded data removed]",
      "text/plain": [
       "<Figure size 1000x600 with 1 Axes>"
      ]
     },
     "metadata": {},
     "output_type": "display_data"
    },
    {
     "data": {
      "text/plain": [
       "Text(0.5, 0, 'Age')"
      ]
     },
     "execution_count": 25,
     "metadata": {},
     "output_type": "execute_result"
    },
    {
     "data": {
      "image/png": "[encoded data removed]",
      "text/plain": [
       "<Figure size 1000x600 with 1 Axes>"
      ]
     },
     "metadata": {},
     "output_type": "display_data"
    }
   ],
   "source": [
    "# Histogram on age vs frequency\n",
    "plt.figure(figsize=(10, 6))\n",
    "sns.histplot(df_cleaned['age'], bins=20, kde=True)\n",
    "plt.title('Distribution of Age')\n",
    "plt.xlabel('Age')\n",
    "plt.ylabel('Frequency')\n",
    "plt.show()\n",
    "\n",
    "# Box plot on age\n",
    "plt.figure(figsize=(10, 6))\n",
    "sns.boxplot(x=df_cleaned['age'])\n",
    "plt.title('Box Plot of Age')\n",
    "plt.xlabel('Age')"
   ]
  },
  {
   "cell_type": "markdown",
   "metadata": {},
   "source": [
    "Now for some categorical values:"
   ]
  },
  {
   "cell_type": "code",
   "execution_count": 26,
   "metadata": {},
   "outputs": [
    {
     "data": {
      "image/png": "[encoded data removed]",
      "text/plain": [
       "<Figure size 1000x600 with 1 Axes>"
      ]
     },
     "metadata": {},
     "output_type": "display_data"
    },
    {
     "data": {
      "image/png": "[encoded data removed]",
      "text/plain": [
       "<Figure size 1000x600 with 1 Axes>"
      ]
     },
     "metadata": {},
     "output_type": "display_data"
    }
   ],
   "source": [
    "# Count plot for sex\n",
    "plt.figure(figsize=(10, 6))\n",
    "sns.countplot(x='sex', data=df_cleaned)\n",
    "plt.title('Distribution of Sex')\n",
    "plt.xlabel('Sex (0 = Female, 1 = Male)')\n",
    "plt.ylabel('Count')\n",
    "plt.show()\n",
    "\n",
    "# Count plot for chest pain type\n",
    "plt.figure(figsize=(10, 6))\n",
    "sns.countplot(x='cp', data=df_cleaned)\n",
    "plt.title('Distribution of Chest Pain Type')\n",
    "plt.xlabel('Chest Pain Type')\n",
    "plt.ylabel('Count')\n",
    "plt.show()"
   ]
  },
  {
   "cell_type": "markdown",
   "metadata": {},
   "source": [
    "## Task 2: Feature Engineering and Descriptive Statistics"
   ]
  },
  {
   "cell_type": "markdown",
   "metadata": {},
   "source": [
    "### Objective\n",
    "\n",
    "Enhance the dataset with new features and then use descriptive statistics\n",
    "to explain the distribution of the data."
   ]
  },
  {
   "cell_type": "markdown",
   "metadata": {},
   "source": [
    "### Feature Engineering"
   ]
  },
  {
   "cell_type": "markdown",
   "metadata": {},
   "source": [
    "Let's start by binning the age column into three categories: Young, Middle-aged, and Senior:"
   ]
  },
  {
   "cell_type": "code",
   "execution_count": 27,
   "metadata": {},
   "outputs": [
    {
     "name": "stdout",
     "output_type": "stream",
     "text": [
      "   age age_group\n",
      "1   29     Young\n",
      "2   29     Young\n",
      "5   32     Young\n",
      "6   32     Young\n",
      "7   32     Young\n"
     ]
    },
    {
     "name": "stderr",
     "output_type": "stream",
     "text": [
      "/var/folders/sr/60t35rxs16b5bhc31mv2ctvr0000gn/T/ipykernel_32300/2736389421.py:3: SettingWithCopyWarning: \n",
      "A value is trying to be set on a copy of a slice from a DataFrame.\n",
      "Try using .loc[row_indexer,col_indexer] = value instead\n",
      "\n",
      "See the caveats in the documentation: https://pandas.pydata.org/pandas-docs/stable/user_guide/indexing.html#returning-a-view-versus-a-copy\n",
      "  df_cleaned['age_group'] = pd.cut(df_cleaned['age'], bins=bins, labels=labels)\n"
     ]
    }
   ],
   "source": [
    "bins = [0, 35, 50, 100]\n",
    "labels = ['Young', 'Middle-aged', 'Senior']\n",
    "df_cleaned['age_group'] = pd.cut(df_cleaned['age'], bins=bins, labels=labels)\n",
    "\n",
    "print(df_cleaned[['age', 'age_group']].head())"
   ]
  },
  {
   "cell_type": "markdown",
   "metadata": {},
   "source": [
    "Now I want to put a hot encoding on the cp column since we have like 1, 2, 3, 4 and all we do is split them into seperate colums so we can put true or false for each row. By the way: cp in our dataset stands for chestpain. When we say hot encoding too, we are basically just converting the categorical values into binary values which I can represent as booleans."
   ]
  },
  {
   "cell_type": "code",
   "execution_count": 28,
   "metadata": {},
   "outputs": [
    {
     "name": "stdout",
     "output_type": "stream",
     "text": [
      "   age  sex  trestbps   chol  fbs  restecg  thalach  exang  oldpeak  \\\n",
      "1   29    1     120.0  243.0  0.0      0.0    160.0    0.0      0.0   \n",
      "2   29    1     140.0    NaN  0.0      0.0    170.0    0.0      0.0   \n",
      "5   32    0     105.0  198.0  0.0      0.0    165.0    0.0      0.0   \n",
      "6   32    1     110.0  225.0  0.0      0.0    184.0    0.0      0.0   \n",
      "7   32    1     125.0  254.0  0.0      0.0    155.0    0.0      0.0   \n",
      "\n",
      "   num        age_group   cp_1  cp_2   cp_3   cp_4  \n",
      "1           0     Young  False  True  False  False  \n",
      "2           0     Young  False  True  False  False  \n",
      "5           0     Young  False  True  False  False  \n",
      "6           0     Young  False  True  False  False  \n",
      "7           0     Young  False  True  False  False  \n"
     ]
    }
   ],
   "source": [
    "df_encoded = pd.get_dummies(df_cleaned, columns=['cp'], prefix='cp')\n",
    "\n",
    "print(df_encoded.head())"
   ]
  },
  {
   "cell_type": "markdown",
   "metadata": {},
   "source": [
    "### Descriptive Statistics"
   ]
  },
  {
   "cell_type": "markdown",
   "metadata": {},
   "source": []
  }
 ],
 "metadata": {
  "kernelspec": {
   "display_name": "ML-OLA-1",
   "language": "python",
   "name": "ml-ola-1"
  },
  "language_info": {
   "codemirror_mode": {
    "name": "ipython",
    "version": 3
   },
   "file_extension": ".py",
   "mimetype": "text/x-python",
   "name": "python",
   "nbconvert_exporter": "python",
   "pygments_lexer": "ipython3",
   "version": "3.13.2"
  }
 },
 "nbformat": 4,
 "nbformat_minor": 2
}
